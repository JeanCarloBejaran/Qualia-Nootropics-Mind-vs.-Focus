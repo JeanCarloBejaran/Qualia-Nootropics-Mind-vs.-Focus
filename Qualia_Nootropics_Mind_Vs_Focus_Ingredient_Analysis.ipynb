{
  "nbformat": 4,
  "nbformat_minor": 0,
  "metadata": {
    "colab": {
      "name": "Qualia Nootropics: Mind Vs. Focus. Ingredient Analysis.ipynb",
      "provenance": [],
      "collapsed_sections": [],
      "toc_visible": true,
      "authorship_tag": "ABX9TyOrTkf3D+0fr3y0WByCKKgJ",
      "include_colab_link": true
    },
    "kernelspec": {
      "name": "python3",
      "display_name": "Python 3"
    }
  },
  "cells": [
    {
      "cell_type": "markdown",
      "metadata": {
        "id": "view-in-github",
        "colab_type": "text"
      },
      "source": [
        "<a href=\"https://colab.research.google.com/github/JeanCarloBejaran/Qualia-Nootropics-Mind-vs.-Focus/blob/master/Qualia_Nootropics_Mind_Vs_Focus_Ingredient_Analysis.ipynb\" target=\"_parent\"><img src=\"https://colab.research.google.com/assets/colab-badge.svg\" alt=\"Open In Colab\"/></a>"
      ]
    },
    {
      "cell_type": "markdown",
      "metadata": {
        "id": "ZyWahob9rZmu",
        "colab_type": "text"
      },
      "source": [
        "**Qualia Nootropics released a new product (Qualia Focus) which appears to be very similar to Qualia Mind. But what are the resulting differences? Should I switch to Focus or stay with Mind?** We will be unpacking this problem through exploration using Python's Data Analysis and Visualization tools.\n"
      ]
    },
    {
      "cell_type": "markdown",
      "metadata": {
        "id": "gl3fdQMaRZBV",
        "colab_type": "text"
      },
      "source": [
        "#Introduction\n",
        "\n",
        "From available information on the internet, Qualia Mind seems to be about energy and focus, and memory, but also brain health, protection and health. Qualia Focus works on delivering short-term benefits for half the price. Let's analyze the ingredients to obtain all the information for some data-driven decision making to see if we should trust the \"word on the street\"."
      ]
    },
    {
      "cell_type": "markdown",
      "metadata": {
        "id": "eUkgZjUAShoT",
        "colab_type": "text"
      },
      "source": [
        "#Step 1. Get the Data\n",
        "\n",
        "---\n",
        "\n"
      ]
    },
    {
      "cell_type": "code",
      "metadata": {
        "id": "lUs9K5k1zQLv",
        "colab_type": "code",
        "colab": {}
      },
      "source": [
        "import pandas as pd"
      ],
      "execution_count": 0,
      "outputs": []
    },
    {
      "cell_type": "code",
      "metadata": {
        "id": "c6s1Dnulsx2r",
        "colab_type": "code",
        "outputId": "8333b418-aa4b-4483-d67b-3c8aebc699b5",
        "colab": {
          "base_uri": "https://localhost:8080/",
          "height": 54
        }
      },
      "source": [
        "#Get ingredients list for each formulation from their website.\n",
        "Q_Mind_url = 'https://neurohacker.com/shop/qualia-mind'\n",
        "Q_Focus_url = 'https://neurohacker.com/shop/qualia-focus'\n",
        "\n",
        "\n",
        "'''\n",
        "Q_Mind = pd.read_csv(Q_Mind_url)\n",
        "Q_Focus = pd.read_csv(Q_Focus_url)\n",
        "\n",
        "This approach gives the following error.\n",
        "\n",
        "\n",
        "HTTPError                                 Traceback (most recent call last)\n",
        "<ipython-input-196-18599c8e1d8c> in <module>()\n",
        "      2 Q_Focus_url = 'https://neurohacker.com/shop/qualia-focus'\n",
        "      3 \n",
        "----> 4 Q_Mind = pd.read_csv(Q_Mind_url)\n",
        "      5 Q_Focus = pd.read_csv(Q_Focus_url)\n",
        "\n",
        "8 frames\n",
        "/usr/lib/python3.6/urllib/request.py in http_error_default(self, req, fp, code, msg, hdrs)\n",
        "    648 class HTTPDefaultErrorHandler(BaseHandler):\n",
        "    649     def http_error_default(self, req, fp, code, msg, hdrs):\n",
        "--> 650         raise HTTPError(req.full_url, code, msg, hdrs, fp)\n",
        "    651 \n",
        "    652 class HTTPRedirectHandler(BaseHandler):\n",
        "\n",
        "HTTPError: HTTP Error 403: Forbidden\n",
        "\n",
        "'''"
      ],
      "execution_count": 2,
      "outputs": [
        {
          "output_type": "execute_result",
          "data": {
            "text/plain": [
              "\"\\nQ_Mind = pd.read_csv(Q_Mind_url)\\nQ_Focus = pd.read_csv(Q_Focus_url)\\n\\nThis approach gives the following error.\\n\\n\\nHTTPError                                 Traceback (most recent call last)\\n<ipython-input-196-18599c8e1d8c> in <module>()\\n      2 Q_Focus_url = 'https://neurohacker.com/shop/qualia-focus'\\n      3 \\n----> 4 Q_Mind = pd.read_csv(Q_Mind_url)\\n      5 Q_Focus = pd.read_csv(Q_Focus_url)\\n\\n8 frames\\n/usr/lib/python3.6/urllib/request.py in http_error_default(self, req, fp, code, msg, hdrs)\\n    648 class HTTPDefaultErrorHandler(BaseHandler):\\n    649     def http_error_default(self, req, fp, code, msg, hdrs):\\n--> 650         raise HTTPError(req.full_url, code, msg, hdrs, fp)\\n    651 \\n    652 class HTTPRedirectHandler(BaseHandler):\\n\\nHTTPError: HTTP Error 403: Forbidden\\n\\n\""
            ]
          },
          "metadata": {
            "tags": []
          },
          "execution_count": 2
        }
      ]
    },
    {
      "cell_type": "code",
      "metadata": {
        "id": "8KFbWPtYs3qi",
        "colab_type": "code",
        "colab": {}
      },
      "source": [
        "#Error with pd.read_html() -> HTTPError: HTTP Error 403: Forbidden\n",
        "#Solution: make the server believe a browser is requesting the information\n",
        "import requests\n",
        "\n",
        "def get_data(url):\n",
        "  ''' request data making the server believe a browser is requesting the information'''\n",
        "  header = {\n",
        "    \"User-Agent\": \"Mozilla/5.0 (X11; Linux x86_64) AppleWebKit/537.36 (KHTML, like Gecko) Chrome/50.0.2661.75 Safari/537.36\",\n",
        "    \"X-Requested-With\": \"XMLHttpRequest\"\n",
        "          }\n",
        "\n",
        "  r = requests.get(url, headers=header)\n",
        "  df = pd.read_html(r.text)\n",
        "\n",
        "  return df[0]\n"
      ],
      "execution_count": 0,
      "outputs": []
    },
    {
      "cell_type": "code",
      "metadata": {
        "id": "EB-5Vi0K09al",
        "colab_type": "code",
        "colab": {}
      },
      "source": [
        "# Now get the data\n",
        "Qualia_Mind_raw = get_data(Q_Mind_url)\n",
        "Qualia_Focus_raw = get_data(Q_Focus_url)"
      ],
      "execution_count": 0,
      "outputs": []
    },
    {
      "cell_type": "code",
      "metadata": {
        "id": "AEToV6fY2ALv",
        "colab_type": "code",
        "outputId": "89198737-4d53-4347-a37e-7be4155875d4",
        "colab": {
          "base_uri": "https://localhost:8080/",
          "height": 142
        }
      },
      "source": [
        "Qualia_Focus_raw.head(3)"
      ],
      "execution_count": 5,
      "outputs": [
        {
          "output_type": "execute_result",
          "data": {
            "text/html": [
              "<div>\n",
              "<style scoped>\n",
              "    .dataframe tbody tr th:only-of-type {\n",
              "        vertical-align: middle;\n",
              "    }\n",
              "\n",
              "    .dataframe tbody tr th {\n",
              "        vertical-align: top;\n",
              "    }\n",
              "\n",
              "    .dataframe thead th {\n",
              "        text-align: right;\n",
              "    }\n",
              "</style>\n",
              "<table border=\"1\" class=\"dataframe\">\n",
              "  <thead>\n",
              "    <tr style=\"text-align: right;\">\n",
              "      <th></th>\n",
              "      <th>Amount per Serving</th>\n",
              "      <th>%DV</th>\n",
              "      <th>Unnamed: 2</th>\n",
              "    </tr>\n",
              "  </thead>\n",
              "  <tbody>\n",
              "    <tr>\n",
              "      <th>0</th>\n",
              "      <td>Vitamin C (as ascorbic acid) 100 mg</td>\n",
              "      <td>111%</td>\n",
              "      <td>NaN</td>\n",
              "    </tr>\n",
              "    <tr>\n",
              "      <th>1</th>\n",
              "      <td>Vitamin D3 (as cholecalciferol) 25 mcg ( 1,000...</td>\n",
              "      <td>125%</td>\n",
              "      <td>NaN</td>\n",
              "    </tr>\n",
              "    <tr>\n",
              "      <th>2</th>\n",
              "      <td>Thiamine (as thiamine HCI) 50 mg</td>\n",
              "      <td>4167%</td>\n",
              "      <td>NaN</td>\n",
              "    </tr>\n",
              "  </tbody>\n",
              "</table>\n",
              "</div>"
            ],
            "text/plain": [
              "                                  Amount per Serving    %DV Unnamed: 2\n",
              "0                Vitamin C (as ascorbic acid) 100 mg   111%        NaN\n",
              "1  Vitamin D3 (as cholecalciferol) 25 mcg ( 1,000...   125%        NaN\n",
              "2                   Thiamine (as thiamine HCI) 50 mg  4167%        NaN"
            ]
          },
          "metadata": {
            "tags": []
          },
          "execution_count": 5
        }
      ]
    },
    {
      "cell_type": "code",
      "metadata": {
        "id": "0S4JnVyZ1fUL",
        "colab_type": "code",
        "outputId": "a471ea13-83cc-4904-bc06-a7d08a6cd181",
        "colab": {
          "base_uri": "https://localhost:8080/",
          "height": 142
        }
      },
      "source": [
        "Qualia_Mind_raw.head(3)"
      ],
      "execution_count": 6,
      "outputs": [
        {
          "output_type": "execute_result",
          "data": {
            "text/html": [
              "<div>\n",
              "<style scoped>\n",
              "    .dataframe tbody tr th:only-of-type {\n",
              "        vertical-align: middle;\n",
              "    }\n",
              "\n",
              "    .dataframe tbody tr th {\n",
              "        vertical-align: top;\n",
              "    }\n",
              "\n",
              "    .dataframe thead th {\n",
              "        text-align: right;\n",
              "    }\n",
              "</style>\n",
              "<table border=\"1\" class=\"dataframe\">\n",
              "  <thead>\n",
              "    <tr style=\"text-align: right;\">\n",
              "      <th></th>\n",
              "      <th>Amount per Serving</th>\n",
              "      <th>%DV</th>\n",
              "      <th>Unnamed: 2</th>\n",
              "    </tr>\n",
              "  </thead>\n",
              "  <tbody>\n",
              "    <tr>\n",
              "      <th>0</th>\n",
              "      <td>Vitamin C (as ascorbic acid) 100 mg</td>\n",
              "      <td>111%</td>\n",
              "      <td>NaN</td>\n",
              "    </tr>\n",
              "    <tr>\n",
              "      <th>1</th>\n",
              "      <td>Vitamin D3 (as cholecalciferol) 25 mcg ( 1,000...</td>\n",
              "      <td>125%</td>\n",
              "      <td>NaN</td>\n",
              "    </tr>\n",
              "    <tr>\n",
              "      <th>2</th>\n",
              "      <td>Thiamine (as thiamine HCI) 50 mg</td>\n",
              "      <td>4167%</td>\n",
              "      <td>NaN</td>\n",
              "    </tr>\n",
              "  </tbody>\n",
              "</table>\n",
              "</div>"
            ],
            "text/plain": [
              "                                  Amount per Serving    %DV Unnamed: 2\n",
              "0                Vitamin C (as ascorbic acid) 100 mg   111%        NaN\n",
              "1  Vitamin D3 (as cholecalciferol) 25 mcg ( 1,000...   125%        NaN\n",
              "2                   Thiamine (as thiamine HCI) 50 mg  4167%        NaN"
            ]
          },
          "metadata": {
            "tags": []
          },
          "execution_count": 6
        }
      ]
    },
    {
      "cell_type": "code",
      "metadata": {
        "id": "7AmuZkPc666c",
        "colab_type": "code",
        "outputId": "5dbdf280-c116-4e65-b421-3f4f926b8655",
        "colab": {
          "base_uri": "https://localhost:8080/",
          "height": 142
        }
      },
      "source": [
        "#Create a column for each ingredients weight (mg)\n",
        "Qualia_Mind_raw['Mind_mg/serving'] = Qualia_Mind_raw['Amount per Serving'].apply(lambda x: x[-6:-2])\n",
        "\n",
        "Qualia_Mind_raw.head(3)"
      ],
      "execution_count": 7,
      "outputs": [
        {
          "output_type": "execute_result",
          "data": {
            "text/html": [
              "<div>\n",
              "<style scoped>\n",
              "    .dataframe tbody tr th:only-of-type {\n",
              "        vertical-align: middle;\n",
              "    }\n",
              "\n",
              "    .dataframe tbody tr th {\n",
              "        vertical-align: top;\n",
              "    }\n",
              "\n",
              "    .dataframe thead th {\n",
              "        text-align: right;\n",
              "    }\n",
              "</style>\n",
              "<table border=\"1\" class=\"dataframe\">\n",
              "  <thead>\n",
              "    <tr style=\"text-align: right;\">\n",
              "      <th></th>\n",
              "      <th>Amount per Serving</th>\n",
              "      <th>%DV</th>\n",
              "      <th>Unnamed: 2</th>\n",
              "      <th>Mind_mg/serving</th>\n",
              "    </tr>\n",
              "  </thead>\n",
              "  <tbody>\n",
              "    <tr>\n",
              "      <th>0</th>\n",
              "      <td>Vitamin C (as ascorbic acid) 100 mg</td>\n",
              "      <td>111%</td>\n",
              "      <td>NaN</td>\n",
              "      <td>100</td>\n",
              "    </tr>\n",
              "    <tr>\n",
              "      <th>1</th>\n",
              "      <td>Vitamin D3 (as cholecalciferol) 25 mcg ( 1,000...</td>\n",
              "      <td>125%</td>\n",
              "      <td>NaN</td>\n",
              "      <td>00 I</td>\n",
              "    </tr>\n",
              "    <tr>\n",
              "      <th>2</th>\n",
              "      <td>Thiamine (as thiamine HCI) 50 mg</td>\n",
              "      <td>4167%</td>\n",
              "      <td>NaN</td>\n",
              "      <td>50</td>\n",
              "    </tr>\n",
              "  </tbody>\n",
              "</table>\n",
              "</div>"
            ],
            "text/plain": [
              "                                  Amount per Serving  ... Mind_mg/serving\n",
              "0                Vitamin C (as ascorbic acid) 100 mg  ...            100 \n",
              "1  Vitamin D3 (as cholecalciferol) 25 mcg ( 1,000...  ...            00 I\n",
              "2                   Thiamine (as thiamine HCI) 50 mg  ...             50 \n",
              "\n",
              "[3 rows x 4 columns]"
            ]
          },
          "metadata": {
            "tags": []
          },
          "execution_count": 7
        }
      ]
    },
    {
      "cell_type": "code",
      "metadata": {
        "id": "jflUwfyz_NJQ",
        "colab_type": "code",
        "outputId": "4b38c110-a197-4564-f718-0629b3923c6b",
        "colab": {
          "base_uri": "https://localhost:8080/",
          "height": 142
        }
      },
      "source": [
        "#repeat for focus\n",
        "Qualia_Focus_raw['Focus_mg/serving'] = Qualia_Focus_raw['Amount per Serving'].apply(lambda x: x[-6:-2])\n",
        "\n",
        "Qualia_Focus_raw.head(3)"
      ],
      "execution_count": 8,
      "outputs": [
        {
          "output_type": "execute_result",
          "data": {
            "text/html": [
              "<div>\n",
              "<style scoped>\n",
              "    .dataframe tbody tr th:only-of-type {\n",
              "        vertical-align: middle;\n",
              "    }\n",
              "\n",
              "    .dataframe tbody tr th {\n",
              "        vertical-align: top;\n",
              "    }\n",
              "\n",
              "    .dataframe thead th {\n",
              "        text-align: right;\n",
              "    }\n",
              "</style>\n",
              "<table border=\"1\" class=\"dataframe\">\n",
              "  <thead>\n",
              "    <tr style=\"text-align: right;\">\n",
              "      <th></th>\n",
              "      <th>Amount per Serving</th>\n",
              "      <th>%DV</th>\n",
              "      <th>Unnamed: 2</th>\n",
              "      <th>Focus_mg/serving</th>\n",
              "    </tr>\n",
              "  </thead>\n",
              "  <tbody>\n",
              "    <tr>\n",
              "      <th>0</th>\n",
              "      <td>Vitamin C (as ascorbic acid) 100 mg</td>\n",
              "      <td>111%</td>\n",
              "      <td>NaN</td>\n",
              "      <td>100</td>\n",
              "    </tr>\n",
              "    <tr>\n",
              "      <th>1</th>\n",
              "      <td>Vitamin D3 (as cholecalciferol) 25 mcg ( 1,000...</td>\n",
              "      <td>125%</td>\n",
              "      <td>NaN</td>\n",
              "      <td>00 I</td>\n",
              "    </tr>\n",
              "    <tr>\n",
              "      <th>2</th>\n",
              "      <td>Thiamine (as thiamine HCI) 50 mg</td>\n",
              "      <td>4167%</td>\n",
              "      <td>NaN</td>\n",
              "      <td>50</td>\n",
              "    </tr>\n",
              "  </tbody>\n",
              "</table>\n",
              "</div>"
            ],
            "text/plain": [
              "                                  Amount per Serving  ... Focus_mg/serving\n",
              "0                Vitamin C (as ascorbic acid) 100 mg  ...             100 \n",
              "1  Vitamin D3 (as cholecalciferol) 25 mcg ( 1,000...  ...             00 I\n",
              "2                   Thiamine (as thiamine HCI) 50 mg  ...              50 \n",
              "\n",
              "[3 rows x 4 columns]"
            ]
          },
          "metadata": {
            "tags": []
          },
          "execution_count": 8
        }
      ]
    },
    {
      "cell_type": "markdown",
      "metadata": {
        "id": "n_D17ecygn6U",
        "colab_type": "text"
      },
      "source": [
        "#Step 2. Clean the Data"
      ]
    },
    {
      "cell_type": "code",
      "metadata": {
        "id": "OM-qFuxW4Blc",
        "colab_type": "code",
        "outputId": "9478dc30-9394-4a8a-ffdc-0d1c2d95715c",
        "colab": {
          "base_uri": "https://localhost:8080/",
          "height": 266
        }
      },
      "source": [
        "#Clean Data: #Remove last row of both, columns [1,2], remove base stack from both (rows[0:5]), clean the amount miligrams and remove them from Ingredient's label. \n",
        "Qualia_Mind = pd.DataFrame( data = Qualia_Mind_raw, columns = Qualia_Mind_raw.columns[[0,3]])\n",
        "Qualia_Focus = pd.DataFrame( data = Qualia_Focus_raw, columns = Qualia_Focus_raw.columns[[0,3]])\n",
        "\n",
        "#rename first column\n",
        "Qualia_Mind.rename(columns = {Qualia_Mind.columns[0]: \"Mind_ingredients\"}, inplace = True)\n",
        "Qualia_Focus.rename(columns = {Qualia_Focus.columns[0]: \"Focus_ingredients\"}, inplace = True)\n",
        "\n",
        "Qualia_Mind.head(7)"
      ],
      "execution_count": 9,
      "outputs": [
        {
          "output_type": "execute_result",
          "data": {
            "text/html": [
              "<div>\n",
              "<style scoped>\n",
              "    .dataframe tbody tr th:only-of-type {\n",
              "        vertical-align: middle;\n",
              "    }\n",
              "\n",
              "    .dataframe tbody tr th {\n",
              "        vertical-align: top;\n",
              "    }\n",
              "\n",
              "    .dataframe thead th {\n",
              "        text-align: right;\n",
              "    }\n",
              "</style>\n",
              "<table border=\"1\" class=\"dataframe\">\n",
              "  <thead>\n",
              "    <tr style=\"text-align: right;\">\n",
              "      <th></th>\n",
              "      <th>Mind_ingredients</th>\n",
              "      <th>Mind_mg/serving</th>\n",
              "    </tr>\n",
              "  </thead>\n",
              "  <tbody>\n",
              "    <tr>\n",
              "      <th>0</th>\n",
              "      <td>Vitamin C (as ascorbic acid) 100 mg</td>\n",
              "      <td>100</td>\n",
              "    </tr>\n",
              "    <tr>\n",
              "      <th>1</th>\n",
              "      <td>Vitamin D3 (as cholecalciferol) 25 mcg ( 1,000...</td>\n",
              "      <td>00 I</td>\n",
              "    </tr>\n",
              "    <tr>\n",
              "      <th>2</th>\n",
              "      <td>Thiamine (as thiamine HCI) 50 mg</td>\n",
              "      <td>50</td>\n",
              "    </tr>\n",
              "    <tr>\n",
              "      <th>3</th>\n",
              "      <td>Niacin (as niacinamide) 50 mg</td>\n",
              "      <td>50</td>\n",
              "    </tr>\n",
              "    <tr>\n",
              "      <th>4</th>\n",
              "      <td>Vitamin B6 (as pyridoxal 5' -phosphate) 20 mg</td>\n",
              "      <td>20</td>\n",
              "    </tr>\n",
              "    <tr>\n",
              "      <th>5</th>\n",
              "      <td>Vitamin B12 (as methylcobalamin) 1000 mcg</td>\n",
              "      <td>00 m</td>\n",
              "    </tr>\n",
              "    <tr>\n",
              "      <th>6</th>\n",
              "      <td>Pantothenic Acid (as calcium pantothenate) 50 mg</td>\n",
              "      <td>50</td>\n",
              "    </tr>\n",
              "  </tbody>\n",
              "</table>\n",
              "</div>"
            ],
            "text/plain": [
              "                                    Mind_ingredients Mind_mg/serving\n",
              "0                Vitamin C (as ascorbic acid) 100 mg            100 \n",
              "1  Vitamin D3 (as cholecalciferol) 25 mcg ( 1,000...            00 I\n",
              "2                   Thiamine (as thiamine HCI) 50 mg             50 \n",
              "3                      Niacin (as niacinamide) 50 mg             50 \n",
              "4      Vitamin B6 (as pyridoxal 5' -phosphate) 20 mg             20 \n",
              "5          Vitamin B12 (as methylcobalamin) 1000 mcg            00 m\n",
              "6   Pantothenic Acid (as calcium pantothenate) 50 mg             50 "
            ]
          },
          "metadata": {
            "tags": []
          },
          "execution_count": 9
        }
      ]
    },
    {
      "cell_type": "code",
      "metadata": {
        "id": "PRhY8W1uEWf8",
        "colab_type": "code",
        "outputId": "8da4077e-9668-45d9-f2e3-d8771a4a891b",
        "colab": {
          "base_uri": "https://localhost:8080/",
          "height": 266
        }
      },
      "source": [
        "Qualia_Focus.head(7)"
      ],
      "execution_count": 10,
      "outputs": [
        {
          "output_type": "execute_result",
          "data": {
            "text/html": [
              "<div>\n",
              "<style scoped>\n",
              "    .dataframe tbody tr th:only-of-type {\n",
              "        vertical-align: middle;\n",
              "    }\n",
              "\n",
              "    .dataframe tbody tr th {\n",
              "        vertical-align: top;\n",
              "    }\n",
              "\n",
              "    .dataframe thead th {\n",
              "        text-align: right;\n",
              "    }\n",
              "</style>\n",
              "<table border=\"1\" class=\"dataframe\">\n",
              "  <thead>\n",
              "    <tr style=\"text-align: right;\">\n",
              "      <th></th>\n",
              "      <th>Focus_ingredients</th>\n",
              "      <th>Focus_mg/serving</th>\n",
              "    </tr>\n",
              "  </thead>\n",
              "  <tbody>\n",
              "    <tr>\n",
              "      <th>0</th>\n",
              "      <td>Vitamin C (as ascorbic acid) 100 mg</td>\n",
              "      <td>100</td>\n",
              "    </tr>\n",
              "    <tr>\n",
              "      <th>1</th>\n",
              "      <td>Vitamin D3 (as cholecalciferol) 25 mcg ( 1,000...</td>\n",
              "      <td>00 I</td>\n",
              "    </tr>\n",
              "    <tr>\n",
              "      <th>2</th>\n",
              "      <td>Thiamine (as thiamine HCI) 50 mg</td>\n",
              "      <td>50</td>\n",
              "    </tr>\n",
              "    <tr>\n",
              "      <th>3</th>\n",
              "      <td>Niacin (as niacinamide) 50 mg</td>\n",
              "      <td>50</td>\n",
              "    </tr>\n",
              "    <tr>\n",
              "      <th>4</th>\n",
              "      <td>Vitamin B6 (as pyridoxal 5' -phosphate) 20 mg</td>\n",
              "      <td>20</td>\n",
              "    </tr>\n",
              "    <tr>\n",
              "      <th>5</th>\n",
              "      <td>Vitamin B12 (as methylcobalamin) 1000 mcg</td>\n",
              "      <td>00 m</td>\n",
              "    </tr>\n",
              "    <tr>\n",
              "      <th>6</th>\n",
              "      <td>Pantothenic Acid (as calcium pantothenate) 50 mg</td>\n",
              "      <td>50</td>\n",
              "    </tr>\n",
              "  </tbody>\n",
              "</table>\n",
              "</div>"
            ],
            "text/plain": [
              "                                   Focus_ingredients Focus_mg/serving\n",
              "0                Vitamin C (as ascorbic acid) 100 mg             100 \n",
              "1  Vitamin D3 (as cholecalciferol) 25 mcg ( 1,000...             00 I\n",
              "2                   Thiamine (as thiamine HCI) 50 mg              50 \n",
              "3                      Niacin (as niacinamide) 50 mg              50 \n",
              "4      Vitamin B6 (as pyridoxal 5' -phosphate) 20 mg              20 \n",
              "5          Vitamin B12 (as methylcobalamin) 1000 mcg             00 m\n",
              "6   Pantothenic Acid (as calcium pantothenate) 50 mg              50 "
            ]
          },
          "metadata": {
            "tags": []
          },
          "execution_count": 10
        }
      ]
    },
    {
      "cell_type": "markdown",
      "metadata": {
        "id": "V2MUWnUXiJz0",
        "colab_type": "text"
      },
      "source": [
        "We can remove the first rows of both columns since they are the same and we are interested in the differences. "
      ]
    },
    {
      "cell_type": "code",
      "metadata": {
        "id": "P90S6agFEXK_",
        "colab_type": "code",
        "colab": {}
      },
      "source": [
        "#Drop Base Stack Ingredients\n",
        "Qualia_Mind = Qualia_Mind[7:-1]\n",
        "Qualia_Focus = Qualia_Focus[7:-1]"
      ],
      "execution_count": 0,
      "outputs": []
    },
    {
      "cell_type": "code",
      "metadata": {
        "id": "iKjInNesB2Hl",
        "colab_type": "code",
        "outputId": "4c9089ce-09fc-48e4-e9aa-2d833b1caed0",
        "colab": {
          "base_uri": "https://localhost:8080/",
          "height": 142
        }
      },
      "source": [
        "Qualia_Mind.head(3)"
      ],
      "execution_count": 12,
      "outputs": [
        {
          "output_type": "execute_result",
          "data": {
            "text/html": [
              "<div>\n",
              "<style scoped>\n",
              "    .dataframe tbody tr th:only-of-type {\n",
              "        vertical-align: middle;\n",
              "    }\n",
              "\n",
              "    .dataframe tbody tr th {\n",
              "        vertical-align: top;\n",
              "    }\n",
              "\n",
              "    .dataframe thead th {\n",
              "        text-align: right;\n",
              "    }\n",
              "</style>\n",
              "<table border=\"1\" class=\"dataframe\">\n",
              "  <thead>\n",
              "    <tr style=\"text-align: right;\">\n",
              "      <th></th>\n",
              "      <th>Mind_ingredients</th>\n",
              "      <th>Mind_mg/serving</th>\n",
              "    </tr>\n",
              "  </thead>\n",
              "  <tbody>\n",
              "    <tr>\n",
              "      <th>7</th>\n",
              "      <td>Acetyl-L-Carnitine HCI 500 mg</td>\n",
              "      <td>500</td>\n",
              "    </tr>\n",
              "    <tr>\n",
              "      <th>8</th>\n",
              "      <td>Artichoke Leaf Extract (4% cynarin and related...</td>\n",
              "      <td>500</td>\n",
              "    </tr>\n",
              "    <tr>\n",
              "      <th>9</th>\n",
              "      <td>Bacopa monnieri Leaf Extract 300 mg</td>\n",
              "      <td>300</td>\n",
              "    </tr>\n",
              "  </tbody>\n",
              "</table>\n",
              "</div>"
            ],
            "text/plain": [
              "                                    Mind_ingredients Mind_mg/serving\n",
              "7                      Acetyl-L-Carnitine HCI 500 mg            500 \n",
              "8  Artichoke Leaf Extract (4% cynarin and related...            500 \n",
              "9                Bacopa monnieri Leaf Extract 300 mg            300 "
            ]
          },
          "metadata": {
            "tags": []
          },
          "execution_count": 12
        }
      ]
    },
    {
      "cell_type": "code",
      "metadata": {
        "id": "CqDNwwLW5Cut",
        "colab_type": "code",
        "outputId": "ce0b8892-09eb-4b32-a633-de5e35f807ba",
        "colab": {
          "base_uri": "https://localhost:8080/",
          "height": 142
        }
      },
      "source": [
        "Qualia_Focus.head(3)"
      ],
      "execution_count": 13,
      "outputs": [
        {
          "output_type": "execute_result",
          "data": {
            "text/html": [
              "<div>\n",
              "<style scoped>\n",
              "    .dataframe tbody tr th:only-of-type {\n",
              "        vertical-align: middle;\n",
              "    }\n",
              "\n",
              "    .dataframe tbody tr th {\n",
              "        vertical-align: top;\n",
              "    }\n",
              "\n",
              "    .dataframe thead th {\n",
              "        text-align: right;\n",
              "    }\n",
              "</style>\n",
              "<table border=\"1\" class=\"dataframe\">\n",
              "  <thead>\n",
              "    <tr style=\"text-align: right;\">\n",
              "      <th></th>\n",
              "      <th>Focus_ingredients</th>\n",
              "      <th>Focus_mg/serving</th>\n",
              "    </tr>\n",
              "  </thead>\n",
              "  <tbody>\n",
              "    <tr>\n",
              "      <th>7</th>\n",
              "      <td>Artichoke Leaf Extract (4% cynarin and related...</td>\n",
              "      <td>300</td>\n",
              "    </tr>\n",
              "    <tr>\n",
              "      <th>8</th>\n",
              "      <td>Bacopa monnieri Leaf Extract 300 mg</td>\n",
              "      <td>300</td>\n",
              "    </tr>\n",
              "    <tr>\n",
              "      <th>9</th>\n",
              "      <td>Alpha-Glycerylphosphorylcholine (alpha GPC) 30...</td>\n",
              "      <td>300</td>\n",
              "    </tr>\n",
              "  </tbody>\n",
              "</table>\n",
              "</div>"
            ],
            "text/plain": [
              "                                   Focus_ingredients Focus_mg/serving\n",
              "7  Artichoke Leaf Extract (4% cynarin and related...             300 \n",
              "8                Bacopa monnieri Leaf Extract 300 mg             300 \n",
              "9  Alpha-Glycerylphosphorylcholine (alpha GPC) 30...             300 "
            ]
          },
          "metadata": {
            "tags": []
          },
          "execution_count": 13
        }
      ]
    },
    {
      "cell_type": "code",
      "metadata": {
        "id": "J8SQlKyFIPjT",
        "colab_type": "code",
        "outputId": "7741255e-e041-4c47-9bfd-a65a35bc1b38",
        "colab": {
          "base_uri": "https://localhost:8080/",
          "height": 700
        }
      },
      "source": [
        "#Clean amount(mg) column and make it type integer.\n",
        "Qualia_Mind['Mind_mg/serving'] = Qualia_Mind[Qualia_Mind.columns[1]].apply(lambda s: int([''.join(i for i in s if i.isdigit())][0]))\n",
        "Qualia_Focus['Focus_mg/serving'] = Qualia_Focus[Qualia_Focus.columns[1]].apply(lambda s: int([''.join(i for i in s if i.isdigit())][0]))\n",
        "Qualia_Mind"
      ],
      "execution_count": 14,
      "outputs": [
        {
          "output_type": "execute_result",
          "data": {
            "text/html": [
              "<div>\n",
              "<style scoped>\n",
              "    .dataframe tbody tr th:only-of-type {\n",
              "        vertical-align: middle;\n",
              "    }\n",
              "\n",
              "    .dataframe tbody tr th {\n",
              "        vertical-align: top;\n",
              "    }\n",
              "\n",
              "    .dataframe thead th {\n",
              "        text-align: right;\n",
              "    }\n",
              "</style>\n",
              "<table border=\"1\" class=\"dataframe\">\n",
              "  <thead>\n",
              "    <tr style=\"text-align: right;\">\n",
              "      <th></th>\n",
              "      <th>Mind_ingredients</th>\n",
              "      <th>Mind_mg/serving</th>\n",
              "    </tr>\n",
              "  </thead>\n",
              "  <tbody>\n",
              "    <tr>\n",
              "      <th>7</th>\n",
              "      <td>Acetyl-L-Carnitine HCI 500 mg</td>\n",
              "      <td>500</td>\n",
              "    </tr>\n",
              "    <tr>\n",
              "      <th>8</th>\n",
              "      <td>Artichoke Leaf Extract (4% cynarin and related...</td>\n",
              "      <td>500</td>\n",
              "    </tr>\n",
              "    <tr>\n",
              "      <th>9</th>\n",
              "      <td>Bacopa monnieri Leaf Extract 300 mg</td>\n",
              "      <td>300</td>\n",
              "    </tr>\n",
              "    <tr>\n",
              "      <th>10</th>\n",
              "      <td>Rhodiola rosea Root Extract (3% rosavins; 1% s...</td>\n",
              "      <td>300</td>\n",
              "    </tr>\n",
              "    <tr>\n",
              "      <th>11</th>\n",
              "      <td>DL-Phenylalanine 300 mg</td>\n",
              "      <td>300</td>\n",
              "    </tr>\n",
              "    <tr>\n",
              "      <th>12</th>\n",
              "      <td>Uridine-5' -Monophosphate heptahydrate disodiu...</td>\n",
              "      <td>250</td>\n",
              "    </tr>\n",
              "    <tr>\n",
              "      <th>13</th>\n",
              "      <td>N-Acetyl-L-Tyrosine 250 mg</td>\n",
              "      <td>250</td>\n",
              "    </tr>\n",
              "    <tr>\n",
              "      <th>14</th>\n",
              "      <td>Taurine 200 mg</td>\n",
              "      <td>200</td>\n",
              "    </tr>\n",
              "    <tr>\n",
              "      <th>15</th>\n",
              "      <td>L-Theanine 200 mg</td>\n",
              "      <td>200</td>\n",
              "    </tr>\n",
              "    <tr>\n",
              "      <th>16</th>\n",
              "      <td>Alpha-Glycerylphosphorylcholine (alpha GPC) 20...</td>\n",
              "      <td>200</td>\n",
              "    </tr>\n",
              "    <tr>\n",
              "      <th>17</th>\n",
              "      <td>Cognizin® 150 mg</td>\n",
              "      <td>150</td>\n",
              "    </tr>\n",
              "    <tr>\n",
              "      <th>18</th>\n",
              "      <td>Organic Coffeeberry® ( 90 mg caffeine) Whole C...</td>\n",
              "      <td>129</td>\n",
              "    </tr>\n",
              "    <tr>\n",
              "      <th>19</th>\n",
              "      <td>Velvet Bean (Mucuna pruriens) Seed Extract 100 mg</td>\n",
              "      <td>100</td>\n",
              "    </tr>\n",
              "    <tr>\n",
              "      <th>20</th>\n",
              "      <td>Phosphatidylserine (from sunflower lecithin) 1...</td>\n",
              "      <td>100</td>\n",
              "    </tr>\n",
              "    <tr>\n",
              "      <th>21</th>\n",
              "      <td>Theobromine 100 mg</td>\n",
              "      <td>100</td>\n",
              "    </tr>\n",
              "    <tr>\n",
              "      <th>22</th>\n",
              "      <td>DHA (as Docosahexaenoic Acid from Algae) 80 mg</td>\n",
              "      <td>80</td>\n",
              "    </tr>\n",
              "    <tr>\n",
              "      <th>23</th>\n",
              "      <td>Celastrus paniculatus Seed Extract 60 mg</td>\n",
              "      <td>60</td>\n",
              "    </tr>\n",
              "    <tr>\n",
              "      <th>24</th>\n",
              "      <td>Ginkgo biloba Leaf Extract (24% glycosides) 50 mg</td>\n",
              "      <td>50</td>\n",
              "    </tr>\n",
              "    <tr>\n",
              "      <th>25</th>\n",
              "      <td>Coleus forskohlii Root Extract (20% forskolin)...</td>\n",
              "      <td>20</td>\n",
              "    </tr>\n",
              "    <tr>\n",
              "      <th>26</th>\n",
              "      <td>Pyrroloquinoline Quinone disodium 10 mg</td>\n",
              "      <td>10</td>\n",
              "    </tr>\n",
              "    <tr>\n",
              "      <th>27</th>\n",
              "      <td>Huperzia serrata Leaf Extract (7% Huperzine A)...</td>\n",
              "      <td>5</td>\n",
              "    </tr>\n",
              "  </tbody>\n",
              "</table>\n",
              "</div>"
            ],
            "text/plain": [
              "                                     Mind_ingredients  Mind_mg/serving\n",
              "7                       Acetyl-L-Carnitine HCI 500 mg              500\n",
              "8   Artichoke Leaf Extract (4% cynarin and related...              500\n",
              "9                 Bacopa monnieri Leaf Extract 300 mg              300\n",
              "10  Rhodiola rosea Root Extract (3% rosavins; 1% s...              300\n",
              "11                            DL-Phenylalanine 300 mg              300\n",
              "12  Uridine-5' -Monophosphate heptahydrate disodiu...              250\n",
              "13                         N-Acetyl-L-Tyrosine 250 mg              250\n",
              "14                                     Taurine 200 mg              200\n",
              "15                                  L-Theanine 200 mg              200\n",
              "16  Alpha-Glycerylphosphorylcholine (alpha GPC) 20...              200\n",
              "17                                   Cognizin® 150 mg              150\n",
              "18  Organic Coffeeberry® ( 90 mg caffeine) Whole C...              129\n",
              "19  Velvet Bean (Mucuna pruriens) Seed Extract 100 mg              100\n",
              "20  Phosphatidylserine (from sunflower lecithin) 1...              100\n",
              "21                                 Theobromine 100 mg              100\n",
              "22     DHA (as Docosahexaenoic Acid from Algae) 80 mg               80\n",
              "23           Celastrus paniculatus Seed Extract 60 mg               60\n",
              "24  Ginkgo biloba Leaf Extract (24% glycosides) 50 mg               50\n",
              "25  Coleus forskohlii Root Extract (20% forskolin)...               20\n",
              "26            Pyrroloquinoline Quinone disodium 10 mg               10\n",
              "27  Huperzia serrata Leaf Extract (7% Huperzine A)...                5"
            ]
          },
          "metadata": {
            "tags": []
          },
          "execution_count": 14
        }
      ]
    },
    {
      "cell_type": "code",
      "metadata": {
        "id": "c1SS0j91Noen",
        "colab_type": "code",
        "outputId": "f1ebe53d-41fb-4b7b-d05e-1641cf269797",
        "colab": {
          "base_uri": "https://localhost:8080/",
          "height": 576
        }
      },
      "source": [
        "Qualia_Focus"
      ],
      "execution_count": 15,
      "outputs": [
        {
          "output_type": "execute_result",
          "data": {
            "text/html": [
              "<div>\n",
              "<style scoped>\n",
              "    .dataframe tbody tr th:only-of-type {\n",
              "        vertical-align: middle;\n",
              "    }\n",
              "\n",
              "    .dataframe tbody tr th {\n",
              "        vertical-align: top;\n",
              "    }\n",
              "\n",
              "    .dataframe thead th {\n",
              "        text-align: right;\n",
              "    }\n",
              "</style>\n",
              "<table border=\"1\" class=\"dataframe\">\n",
              "  <thead>\n",
              "    <tr style=\"text-align: right;\">\n",
              "      <th></th>\n",
              "      <th>Focus_ingredients</th>\n",
              "      <th>Focus_mg/serving</th>\n",
              "    </tr>\n",
              "  </thead>\n",
              "  <tbody>\n",
              "    <tr>\n",
              "      <th>7</th>\n",
              "      <td>Artichoke Leaf Extract (4% cynarin and related...</td>\n",
              "      <td>300</td>\n",
              "    </tr>\n",
              "    <tr>\n",
              "      <th>8</th>\n",
              "      <td>Bacopa monnieri Leaf Extract 300 mg</td>\n",
              "      <td>300</td>\n",
              "    </tr>\n",
              "    <tr>\n",
              "      <th>9</th>\n",
              "      <td>Alpha-Glycerylphosphorylcholine (alpha GPC) 30...</td>\n",
              "      <td>300</td>\n",
              "    </tr>\n",
              "    <tr>\n",
              "      <th>10</th>\n",
              "      <td>DL-Phenylalanine 300 mg</td>\n",
              "      <td>300</td>\n",
              "    </tr>\n",
              "    <tr>\n",
              "      <th>11</th>\n",
              "      <td>Acetyl-L-Carnitine HCI 250 mg</td>\n",
              "      <td>250</td>\n",
              "    </tr>\n",
              "    <tr>\n",
              "      <th>12</th>\n",
              "      <td>N-Acetyl-L-Tyrosine 250 mg</td>\n",
              "      <td>250</td>\n",
              "    </tr>\n",
              "    <tr>\n",
              "      <th>13</th>\n",
              "      <td>Uridine-5' -Monophosphate heptahydrate disodiu...</td>\n",
              "      <td>200</td>\n",
              "    </tr>\n",
              "    <tr>\n",
              "      <th>14</th>\n",
              "      <td>Taurine 200 mg</td>\n",
              "      <td>200</td>\n",
              "    </tr>\n",
              "    <tr>\n",
              "      <th>15</th>\n",
              "      <td>L-Theanine 200 mg</td>\n",
              "      <td>200</td>\n",
              "    </tr>\n",
              "    <tr>\n",
              "      <th>16</th>\n",
              "      <td>Rhodiola rosea Root Extract (3% rosavins; 1% s...</td>\n",
              "      <td>150</td>\n",
              "    </tr>\n",
              "    <tr>\n",
              "      <th>17</th>\n",
              "      <td>Organic Coffeeberry® ( 90 mg caffeine) Whole C...</td>\n",
              "      <td>129</td>\n",
              "    </tr>\n",
              "    <tr>\n",
              "      <th>18</th>\n",
              "      <td>Velvet Bean (Mucuna pruriens) Seed Extract 100 mg</td>\n",
              "      <td>100</td>\n",
              "    </tr>\n",
              "    <tr>\n",
              "      <th>19</th>\n",
              "      <td>Theobromine 100 mg</td>\n",
              "      <td>100</td>\n",
              "    </tr>\n",
              "    <tr>\n",
              "      <th>20</th>\n",
              "      <td>Celastrus paniculatus Seed Extract 60 mg</td>\n",
              "      <td>60</td>\n",
              "    </tr>\n",
              "    <tr>\n",
              "      <th>21</th>\n",
              "      <td>Ginkgo biloba Leaf Extract (24% glycosides) 50 mg</td>\n",
              "      <td>50</td>\n",
              "    </tr>\n",
              "    <tr>\n",
              "      <th>22</th>\n",
              "      <td>Coleus forskohlii Root Extract (20% forskolin)...</td>\n",
              "      <td>20</td>\n",
              "    </tr>\n",
              "    <tr>\n",
              "      <th>23</th>\n",
              "      <td>Huperzia serrata Leaf Extract (7% Huperzine A)...</td>\n",
              "      <td>5</td>\n",
              "    </tr>\n",
              "  </tbody>\n",
              "</table>\n",
              "</div>"
            ],
            "text/plain": [
              "                                    Focus_ingredients  Focus_mg/serving\n",
              "7   Artichoke Leaf Extract (4% cynarin and related...               300\n",
              "8                 Bacopa monnieri Leaf Extract 300 mg               300\n",
              "9   Alpha-Glycerylphosphorylcholine (alpha GPC) 30...               300\n",
              "10                            DL-Phenylalanine 300 mg               300\n",
              "11                      Acetyl-L-Carnitine HCI 250 mg               250\n",
              "12                         N-Acetyl-L-Tyrosine 250 mg               250\n",
              "13  Uridine-5' -Monophosphate heptahydrate disodiu...               200\n",
              "14                                     Taurine 200 mg               200\n",
              "15                                  L-Theanine 200 mg               200\n",
              "16  Rhodiola rosea Root Extract (3% rosavins; 1% s...               150\n",
              "17  Organic Coffeeberry® ( 90 mg caffeine) Whole C...               129\n",
              "18  Velvet Bean (Mucuna pruriens) Seed Extract 100 mg               100\n",
              "19                                 Theobromine 100 mg               100\n",
              "20           Celastrus paniculatus Seed Extract 60 mg                60\n",
              "21  Ginkgo biloba Leaf Extract (24% glycosides) 50 mg                50\n",
              "22  Coleus forskohlii Root Extract (20% forskolin)...                20\n",
              "23  Huperzia serrata Leaf Extract (7% Huperzine A)...                 5"
            ]
          },
          "metadata": {
            "tags": []
          },
          "execution_count": 15
        }
      ]
    },
    {
      "cell_type": "code",
      "metadata": {
        "id": "2UJg9X_paQmp",
        "colab_type": "code",
        "colab": {}
      },
      "source": [
        "#create merge key from ingredient name\n",
        "Qualia_Mind['merge_key'] = Qualia_Mind.Mind_ingredients.apply(lambda x: x[0:10])\n",
        "Qualia_Focus['merge_key'] = Qualia_Focus.Focus_ingredients.apply(lambda x: x[0:10])"
      ],
      "execution_count": 0,
      "outputs": []
    },
    {
      "cell_type": "code",
      "metadata": {
        "id": "rpO_JsZhYF15",
        "colab_type": "code",
        "colab": {}
      },
      "source": [
        "#merge on merge_key\n",
        "Qualia = pd.merge(Qualia_Mind, Qualia_Focus, how = 'outer', on = 'merge_key')\n",
        "Qualia.index = Qualia.merge_key\n",
        "Qualia.drop(columns = ['merge_key', 'Focus_ingredients'], inplace = True)\n",
        "\n",
        "Qualia.rename(columns = {Qualia.columns[0]: \"Ingredients\"}, inplace = True)"
      ],
      "execution_count": 0,
      "outputs": []
    },
    {
      "cell_type": "code",
      "metadata": {
        "id": "wuWNQxN2cYuK",
        "colab_type": "code",
        "outputId": "a0d8709e-7162-4eb7-a5e4-07cb9f8e744e",
        "colab": {
          "base_uri": "https://localhost:8080/",
          "height": 731
        }
      },
      "source": [
        "Qualia"
      ],
      "execution_count": 18,
      "outputs": [
        {
          "output_type": "execute_result",
          "data": {
            "text/html": [
              "<div>\n",
              "<style scoped>\n",
              "    .dataframe tbody tr th:only-of-type {\n",
              "        vertical-align: middle;\n",
              "    }\n",
              "\n",
              "    .dataframe tbody tr th {\n",
              "        vertical-align: top;\n",
              "    }\n",
              "\n",
              "    .dataframe thead th {\n",
              "        text-align: right;\n",
              "    }\n",
              "</style>\n",
              "<table border=\"1\" class=\"dataframe\">\n",
              "  <thead>\n",
              "    <tr style=\"text-align: right;\">\n",
              "      <th></th>\n",
              "      <th>Ingredients</th>\n",
              "      <th>Mind_mg/serving</th>\n",
              "      <th>Focus_mg/serving</th>\n",
              "    </tr>\n",
              "    <tr>\n",
              "      <th>merge_key</th>\n",
              "      <th></th>\n",
              "      <th></th>\n",
              "      <th></th>\n",
              "    </tr>\n",
              "  </thead>\n",
              "  <tbody>\n",
              "    <tr>\n",
              "      <th>Acetyl-L-C</th>\n",
              "      <td>Acetyl-L-Carnitine HCI 500 mg</td>\n",
              "      <td>500</td>\n",
              "      <td>250.0</td>\n",
              "    </tr>\n",
              "    <tr>\n",
              "      <th>Artichoke</th>\n",
              "      <td>Artichoke Leaf Extract (4% cynarin and related...</td>\n",
              "      <td>500</td>\n",
              "      <td>300.0</td>\n",
              "    </tr>\n",
              "    <tr>\n",
              "      <th>Bacopa mon</th>\n",
              "      <td>Bacopa monnieri Leaf Extract 300 mg</td>\n",
              "      <td>300</td>\n",
              "      <td>300.0</td>\n",
              "    </tr>\n",
              "    <tr>\n",
              "      <th>Rhodiola r</th>\n",
              "      <td>Rhodiola rosea Root Extract (3% rosavins; 1% s...</td>\n",
              "      <td>300</td>\n",
              "      <td>150.0</td>\n",
              "    </tr>\n",
              "    <tr>\n",
              "      <th>DL-Phenyla</th>\n",
              "      <td>DL-Phenylalanine 300 mg</td>\n",
              "      <td>300</td>\n",
              "      <td>300.0</td>\n",
              "    </tr>\n",
              "    <tr>\n",
              "      <th>Uridine-5'</th>\n",
              "      <td>Uridine-5' -Monophosphate heptahydrate disodiu...</td>\n",
              "      <td>250</td>\n",
              "      <td>200.0</td>\n",
              "    </tr>\n",
              "    <tr>\n",
              "      <th>N-Acetyl-L</th>\n",
              "      <td>N-Acetyl-L-Tyrosine 250 mg</td>\n",
              "      <td>250</td>\n",
              "      <td>250.0</td>\n",
              "    </tr>\n",
              "    <tr>\n",
              "      <th>Taurine 20</th>\n",
              "      <td>Taurine 200 mg</td>\n",
              "      <td>200</td>\n",
              "      <td>200.0</td>\n",
              "    </tr>\n",
              "    <tr>\n",
              "      <th>L-Theanine</th>\n",
              "      <td>L-Theanine 200 mg</td>\n",
              "      <td>200</td>\n",
              "      <td>200.0</td>\n",
              "    </tr>\n",
              "    <tr>\n",
              "      <th>Alpha-Glyc</th>\n",
              "      <td>Alpha-Glycerylphosphorylcholine (alpha GPC) 20...</td>\n",
              "      <td>200</td>\n",
              "      <td>300.0</td>\n",
              "    </tr>\n",
              "    <tr>\n",
              "      <th>Cognizin®</th>\n",
              "      <td>Cognizin® 150 mg</td>\n",
              "      <td>150</td>\n",
              "      <td>NaN</td>\n",
              "    </tr>\n",
              "    <tr>\n",
              "      <th>Organic Co</th>\n",
              "      <td>Organic Coffeeberry® ( 90 mg caffeine) Whole C...</td>\n",
              "      <td>129</td>\n",
              "      <td>129.0</td>\n",
              "    </tr>\n",
              "    <tr>\n",
              "      <th>Velvet Bea</th>\n",
              "      <td>Velvet Bean (Mucuna pruriens) Seed Extract 100 mg</td>\n",
              "      <td>100</td>\n",
              "      <td>100.0</td>\n",
              "    </tr>\n",
              "    <tr>\n",
              "      <th>Phosphatid</th>\n",
              "      <td>Phosphatidylserine (from sunflower lecithin) 1...</td>\n",
              "      <td>100</td>\n",
              "      <td>NaN</td>\n",
              "    </tr>\n",
              "    <tr>\n",
              "      <th>Theobromin</th>\n",
              "      <td>Theobromine 100 mg</td>\n",
              "      <td>100</td>\n",
              "      <td>100.0</td>\n",
              "    </tr>\n",
              "    <tr>\n",
              "      <th>DHA (as Do</th>\n",
              "      <td>DHA (as Docosahexaenoic Acid from Algae) 80 mg</td>\n",
              "      <td>80</td>\n",
              "      <td>NaN</td>\n",
              "    </tr>\n",
              "    <tr>\n",
              "      <th>Celastrus</th>\n",
              "      <td>Celastrus paniculatus Seed Extract 60 mg</td>\n",
              "      <td>60</td>\n",
              "      <td>60.0</td>\n",
              "    </tr>\n",
              "    <tr>\n",
              "      <th>Ginkgo bil</th>\n",
              "      <td>Ginkgo biloba Leaf Extract (24% glycosides) 50 mg</td>\n",
              "      <td>50</td>\n",
              "      <td>50.0</td>\n",
              "    </tr>\n",
              "    <tr>\n",
              "      <th>Coleus for</th>\n",
              "      <td>Coleus forskohlii Root Extract (20% forskolin)...</td>\n",
              "      <td>20</td>\n",
              "      <td>20.0</td>\n",
              "    </tr>\n",
              "    <tr>\n",
              "      <th>Pyrroloqui</th>\n",
              "      <td>Pyrroloquinoline Quinone disodium 10 mg</td>\n",
              "      <td>10</td>\n",
              "      <td>NaN</td>\n",
              "    </tr>\n",
              "    <tr>\n",
              "      <th>Huperzia s</th>\n",
              "      <td>Huperzia serrata Leaf Extract (7% Huperzine A)...</td>\n",
              "      <td>5</td>\n",
              "      <td>5.0</td>\n",
              "    </tr>\n",
              "  </tbody>\n",
              "</table>\n",
              "</div>"
            ],
            "text/plain": [
              "                                                  Ingredients  ...  Focus_mg/serving\n",
              "merge_key                                                      ...                  \n",
              "Acetyl-L-C                      Acetyl-L-Carnitine HCI 500 mg  ...             250.0\n",
              "Artichoke   Artichoke Leaf Extract (4% cynarin and related...  ...             300.0\n",
              "Bacopa mon                Bacopa monnieri Leaf Extract 300 mg  ...             300.0\n",
              "Rhodiola r  Rhodiola rosea Root Extract (3% rosavins; 1% s...  ...             150.0\n",
              "DL-Phenyla                            DL-Phenylalanine 300 mg  ...             300.0\n",
              "Uridine-5'  Uridine-5' -Monophosphate heptahydrate disodiu...  ...             200.0\n",
              "N-Acetyl-L                         N-Acetyl-L-Tyrosine 250 mg  ...             250.0\n",
              "Taurine 20                                     Taurine 200 mg  ...             200.0\n",
              "L-Theanine                                  L-Theanine 200 mg  ...             200.0\n",
              "Alpha-Glyc  Alpha-Glycerylphosphorylcholine (alpha GPC) 20...  ...             300.0\n",
              "Cognizin®                                    Cognizin® 150 mg  ...               NaN\n",
              "Organic Co  Organic Coffeeberry® ( 90 mg caffeine) Whole C...  ...             129.0\n",
              "Velvet Bea  Velvet Bean (Mucuna pruriens) Seed Extract 100 mg  ...             100.0\n",
              "Phosphatid  Phosphatidylserine (from sunflower lecithin) 1...  ...               NaN\n",
              "Theobromin                                 Theobromine 100 mg  ...             100.0\n",
              "DHA (as Do     DHA (as Docosahexaenoic Acid from Algae) 80 mg  ...               NaN\n",
              "Celastrus            Celastrus paniculatus Seed Extract 60 mg  ...              60.0\n",
              "Ginkgo bil  Ginkgo biloba Leaf Extract (24% glycosides) 50 mg  ...              50.0\n",
              "Coleus for  Coleus forskohlii Root Extract (20% forskolin)...  ...              20.0\n",
              "Pyrroloqui            Pyrroloquinoline Quinone disodium 10 mg  ...               NaN\n",
              "Huperzia s  Huperzia serrata Leaf Extract (7% Huperzine A)...  ...               5.0\n",
              "\n",
              "[21 rows x 3 columns]"
            ]
          },
          "metadata": {
            "tags": []
          },
          "execution_count": 18
        }
      ]
    },
    {
      "cell_type": "code",
      "metadata": {
        "id": "v316OmTL06iM",
        "colab_type": "code",
        "colab": {
          "base_uri": "https://localhost:8080/",
          "height": 34
        },
        "outputId": "639c29f6-cf7f-414b-850a-5bcbde91496a"
      },
      "source": [
        "' '.join(Qualia.Ingredients[0].split()[0:-2])"
      ],
      "execution_count": 19,
      "outputs": [
        {
          "output_type": "execute_result",
          "data": {
            "text/plain": [
              "'Acetyl-L-Carnitine HCI'"
            ]
          },
          "metadata": {
            "tags": []
          },
          "execution_count": 19
        }
      ]
    },
    {
      "cell_type": "markdown",
      "metadata": {
        "id": "6oacj03SSWmC",
        "colab_type": "text"
      },
      "source": [
        "#clean ingredients \n"
      ]
    },
    {
      "cell_type": "code",
      "metadata": {
        "id": "X6A85XgeTXeB",
        "colab_type": "code",
        "colab": {
          "base_uri": "https://localhost:8080/",
          "height": 731
        },
        "outputId": "bdf36faf-4030-4ec2-8ee8-3bf95dcd4112"
      },
      "source": [
        "#clean ingredients list of the mg amount. (Not required for the analysis but for showing off)\n",
        "def remove_ing_weight(string):\n",
        "  '''receives string and miligrams in (int) and cleans ingredient name'''\n",
        "  return ' '.join(string.split()[0:-2])\n",
        "\n",
        "Qualia.Ingredients = Qualia.Ingredients.apply(remove_ing_weight)\n",
        "\n",
        "#More cleaning for the Focus amount columns\n",
        "#swap not present ingredient values from Nan to 0\n",
        "Qualia['Focus_mg/serving'].fillna('0', inplace = True)\n",
        "#float to int\n",
        "Qualia['Focus_mg/serving'].apply(lambda x: int(x))\n",
        "Qualia"
      ],
      "execution_count": 20,
      "outputs": [
        {
          "output_type": "execute_result",
          "data": {
            "text/html": [
              "<div>\n",
              "<style scoped>\n",
              "    .dataframe tbody tr th:only-of-type {\n",
              "        vertical-align: middle;\n",
              "    }\n",
              "\n",
              "    .dataframe tbody tr th {\n",
              "        vertical-align: top;\n",
              "    }\n",
              "\n",
              "    .dataframe thead th {\n",
              "        text-align: right;\n",
              "    }\n",
              "</style>\n",
              "<table border=\"1\" class=\"dataframe\">\n",
              "  <thead>\n",
              "    <tr style=\"text-align: right;\">\n",
              "      <th></th>\n",
              "      <th>Ingredients</th>\n",
              "      <th>Mind_mg/serving</th>\n",
              "      <th>Focus_mg/serving</th>\n",
              "    </tr>\n",
              "    <tr>\n",
              "      <th>merge_key</th>\n",
              "      <th></th>\n",
              "      <th></th>\n",
              "      <th></th>\n",
              "    </tr>\n",
              "  </thead>\n",
              "  <tbody>\n",
              "    <tr>\n",
              "      <th>Acetyl-L-C</th>\n",
              "      <td>Acetyl-L-Carnitine HCI</td>\n",
              "      <td>500</td>\n",
              "      <td>250</td>\n",
              "    </tr>\n",
              "    <tr>\n",
              "      <th>Artichoke</th>\n",
              "      <td>Artichoke Leaf Extract (4% cynarin and related...</td>\n",
              "      <td>500</td>\n",
              "      <td>300</td>\n",
              "    </tr>\n",
              "    <tr>\n",
              "      <th>Bacopa mon</th>\n",
              "      <td>Bacopa monnieri Leaf Extract</td>\n",
              "      <td>300</td>\n",
              "      <td>300</td>\n",
              "    </tr>\n",
              "    <tr>\n",
              "      <th>Rhodiola r</th>\n",
              "      <td>Rhodiola rosea Root Extract (3% rosavins; 1% s...</td>\n",
              "      <td>300</td>\n",
              "      <td>150</td>\n",
              "    </tr>\n",
              "    <tr>\n",
              "      <th>DL-Phenyla</th>\n",
              "      <td>DL-Phenylalanine</td>\n",
              "      <td>300</td>\n",
              "      <td>300</td>\n",
              "    </tr>\n",
              "    <tr>\n",
              "      <th>Uridine-5'</th>\n",
              "      <td>Uridine-5' -Monophosphate heptahydrate disodium</td>\n",
              "      <td>250</td>\n",
              "      <td>200</td>\n",
              "    </tr>\n",
              "    <tr>\n",
              "      <th>N-Acetyl-L</th>\n",
              "      <td>N-Acetyl-L-Tyrosine</td>\n",
              "      <td>250</td>\n",
              "      <td>250</td>\n",
              "    </tr>\n",
              "    <tr>\n",
              "      <th>Taurine 20</th>\n",
              "      <td>Taurine</td>\n",
              "      <td>200</td>\n",
              "      <td>200</td>\n",
              "    </tr>\n",
              "    <tr>\n",
              "      <th>L-Theanine</th>\n",
              "      <td>L-Theanine</td>\n",
              "      <td>200</td>\n",
              "      <td>200</td>\n",
              "    </tr>\n",
              "    <tr>\n",
              "      <th>Alpha-Glyc</th>\n",
              "      <td>Alpha-Glycerylphosphorylcholine (alpha GPC)</td>\n",
              "      <td>200</td>\n",
              "      <td>300</td>\n",
              "    </tr>\n",
              "    <tr>\n",
              "      <th>Cognizin®</th>\n",
              "      <td>Cognizin®</td>\n",
              "      <td>150</td>\n",
              "      <td>0</td>\n",
              "    </tr>\n",
              "    <tr>\n",
              "      <th>Organic Co</th>\n",
              "      <td>Organic Coffeeberry® ( 90 mg caffeine) Whole C...</td>\n",
              "      <td>129</td>\n",
              "      <td>129</td>\n",
              "    </tr>\n",
              "    <tr>\n",
              "      <th>Velvet Bea</th>\n",
              "      <td>Velvet Bean (Mucuna pruriens) Seed Extract</td>\n",
              "      <td>100</td>\n",
              "      <td>100</td>\n",
              "    </tr>\n",
              "    <tr>\n",
              "      <th>Phosphatid</th>\n",
              "      <td>Phosphatidylserine (from sunflower lecithin)</td>\n",
              "      <td>100</td>\n",
              "      <td>0</td>\n",
              "    </tr>\n",
              "    <tr>\n",
              "      <th>Theobromin</th>\n",
              "      <td>Theobromine</td>\n",
              "      <td>100</td>\n",
              "      <td>100</td>\n",
              "    </tr>\n",
              "    <tr>\n",
              "      <th>DHA (as Do</th>\n",
              "      <td>DHA (as Docosahexaenoic Acid from Algae)</td>\n",
              "      <td>80</td>\n",
              "      <td>0</td>\n",
              "    </tr>\n",
              "    <tr>\n",
              "      <th>Celastrus</th>\n",
              "      <td>Celastrus paniculatus Seed Extract</td>\n",
              "      <td>60</td>\n",
              "      <td>60</td>\n",
              "    </tr>\n",
              "    <tr>\n",
              "      <th>Ginkgo bil</th>\n",
              "      <td>Ginkgo biloba Leaf Extract (24% glycosides)</td>\n",
              "      <td>50</td>\n",
              "      <td>50</td>\n",
              "    </tr>\n",
              "    <tr>\n",
              "      <th>Coleus for</th>\n",
              "      <td>Coleus forskohlii Root Extract (20% forskolin)</td>\n",
              "      <td>20</td>\n",
              "      <td>20</td>\n",
              "    </tr>\n",
              "    <tr>\n",
              "      <th>Pyrroloqui</th>\n",
              "      <td>Pyrroloquinoline Quinone disodium</td>\n",
              "      <td>10</td>\n",
              "      <td>0</td>\n",
              "    </tr>\n",
              "    <tr>\n",
              "      <th>Huperzia s</th>\n",
              "      <td>Huperzia serrata Leaf Extract (7% Huperzine A)</td>\n",
              "      <td>5</td>\n",
              "      <td>5</td>\n",
              "    </tr>\n",
              "  </tbody>\n",
              "</table>\n",
              "</div>"
            ],
            "text/plain": [
              "                                                  Ingredients  ...  Focus_mg/serving\n",
              "merge_key                                                      ...                  \n",
              "Acetyl-L-C                             Acetyl-L-Carnitine HCI  ...               250\n",
              "Artichoke   Artichoke Leaf Extract (4% cynarin and related...  ...               300\n",
              "Bacopa mon                       Bacopa monnieri Leaf Extract  ...               300\n",
              "Rhodiola r  Rhodiola rosea Root Extract (3% rosavins; 1% s...  ...               150\n",
              "DL-Phenyla                                   DL-Phenylalanine  ...               300\n",
              "Uridine-5'    Uridine-5' -Monophosphate heptahydrate disodium  ...               200\n",
              "N-Acetyl-L                                N-Acetyl-L-Tyrosine  ...               250\n",
              "Taurine 20                                            Taurine  ...               200\n",
              "L-Theanine                                         L-Theanine  ...               200\n",
              "Alpha-Glyc        Alpha-Glycerylphosphorylcholine (alpha GPC)  ...               300\n",
              "Cognizin®                                           Cognizin®  ...                 0\n",
              "Organic Co  Organic Coffeeberry® ( 90 mg caffeine) Whole C...  ...               129\n",
              "Velvet Bea         Velvet Bean (Mucuna pruriens) Seed Extract  ...               100\n",
              "Phosphatid       Phosphatidylserine (from sunflower lecithin)  ...                 0\n",
              "Theobromin                                        Theobromine  ...               100\n",
              "DHA (as Do           DHA (as Docosahexaenoic Acid from Algae)  ...                 0\n",
              "Celastrus                  Celastrus paniculatus Seed Extract  ...                60\n",
              "Ginkgo bil        Ginkgo biloba Leaf Extract (24% glycosides)  ...                50\n",
              "Coleus for     Coleus forskohlii Root Extract (20% forskolin)  ...                20\n",
              "Pyrroloqui                  Pyrroloquinoline Quinone disodium  ...                 0\n",
              "Huperzia s     Huperzia serrata Leaf Extract (7% Huperzine A)  ...                 5\n",
              "\n",
              "[21 rows x 3 columns]"
            ]
          },
          "metadata": {
            "tags": []
          },
          "execution_count": 20
        }
      ]
    },
    {
      "cell_type": "code",
      "metadata": {
        "id": "AumKUmGR2y0C",
        "colab_type": "code",
        "colab": {
          "base_uri": "https://localhost:8080/",
          "height": 359
        },
        "outputId": "88b2b8b0-125a-4726-85e4-8c2bbc7ec011"
      },
      "source": [
        "#Remove ingredients that are equally present and get the effect info for the remaining.\n",
        "Qualia_stack_differences = Qualia.loc[(Qualia['Mind_mg/serving'] != Qualia['Focus_mg/serving']), ['Ingredients', 'Mind_mg/serving', 'Focus_mg/serving']]\n",
        "Qualia_stack_differences"
      ],
      "execution_count": 21,
      "outputs": [
        {
          "output_type": "execute_result",
          "data": {
            "text/html": [
              "<div>\n",
              "<style scoped>\n",
              "    .dataframe tbody tr th:only-of-type {\n",
              "        vertical-align: middle;\n",
              "    }\n",
              "\n",
              "    .dataframe tbody tr th {\n",
              "        vertical-align: top;\n",
              "    }\n",
              "\n",
              "    .dataframe thead th {\n",
              "        text-align: right;\n",
              "    }\n",
              "</style>\n",
              "<table border=\"1\" class=\"dataframe\">\n",
              "  <thead>\n",
              "    <tr style=\"text-align: right;\">\n",
              "      <th></th>\n",
              "      <th>Ingredients</th>\n",
              "      <th>Mind_mg/serving</th>\n",
              "      <th>Focus_mg/serving</th>\n",
              "    </tr>\n",
              "    <tr>\n",
              "      <th>merge_key</th>\n",
              "      <th></th>\n",
              "      <th></th>\n",
              "      <th></th>\n",
              "    </tr>\n",
              "  </thead>\n",
              "  <tbody>\n",
              "    <tr>\n",
              "      <th>Acetyl-L-C</th>\n",
              "      <td>Acetyl-L-Carnitine HCI</td>\n",
              "      <td>500</td>\n",
              "      <td>250</td>\n",
              "    </tr>\n",
              "    <tr>\n",
              "      <th>Artichoke</th>\n",
              "      <td>Artichoke Leaf Extract (4% cynarin and related...</td>\n",
              "      <td>500</td>\n",
              "      <td>300</td>\n",
              "    </tr>\n",
              "    <tr>\n",
              "      <th>Rhodiola r</th>\n",
              "      <td>Rhodiola rosea Root Extract (3% rosavins; 1% s...</td>\n",
              "      <td>300</td>\n",
              "      <td>150</td>\n",
              "    </tr>\n",
              "    <tr>\n",
              "      <th>Uridine-5'</th>\n",
              "      <td>Uridine-5' -Monophosphate heptahydrate disodium</td>\n",
              "      <td>250</td>\n",
              "      <td>200</td>\n",
              "    </tr>\n",
              "    <tr>\n",
              "      <th>Alpha-Glyc</th>\n",
              "      <td>Alpha-Glycerylphosphorylcholine (alpha GPC)</td>\n",
              "      <td>200</td>\n",
              "      <td>300</td>\n",
              "    </tr>\n",
              "    <tr>\n",
              "      <th>Cognizin®</th>\n",
              "      <td>Cognizin®</td>\n",
              "      <td>150</td>\n",
              "      <td>0</td>\n",
              "    </tr>\n",
              "    <tr>\n",
              "      <th>Phosphatid</th>\n",
              "      <td>Phosphatidylserine (from sunflower lecithin)</td>\n",
              "      <td>100</td>\n",
              "      <td>0</td>\n",
              "    </tr>\n",
              "    <tr>\n",
              "      <th>DHA (as Do</th>\n",
              "      <td>DHA (as Docosahexaenoic Acid from Algae)</td>\n",
              "      <td>80</td>\n",
              "      <td>0</td>\n",
              "    </tr>\n",
              "    <tr>\n",
              "      <th>Pyrroloqui</th>\n",
              "      <td>Pyrroloquinoline Quinone disodium</td>\n",
              "      <td>10</td>\n",
              "      <td>0</td>\n",
              "    </tr>\n",
              "  </tbody>\n",
              "</table>\n",
              "</div>"
            ],
            "text/plain": [
              "                                                  Ingredients  ...  Focus_mg/serving\n",
              "merge_key                                                      ...                  \n",
              "Acetyl-L-C                             Acetyl-L-Carnitine HCI  ...               250\n",
              "Artichoke   Artichoke Leaf Extract (4% cynarin and related...  ...               300\n",
              "Rhodiola r  Rhodiola rosea Root Extract (3% rosavins; 1% s...  ...               150\n",
              "Uridine-5'    Uridine-5' -Monophosphate heptahydrate disodium  ...               200\n",
              "Alpha-Glyc        Alpha-Glycerylphosphorylcholine (alpha GPC)  ...               300\n",
              "Cognizin®                                           Cognizin®  ...                 0\n",
              "Phosphatid       Phosphatidylserine (from sunflower lecithin)  ...                 0\n",
              "DHA (as Do           DHA (as Docosahexaenoic Acid from Algae)  ...                 0\n",
              "Pyrroloqui                  Pyrroloquinoline Quinone disodium  ...                 0\n",
              "\n",
              "[9 rows x 3 columns]"
            ]
          },
          "metadata": {
            "tags": []
          },
          "execution_count": 21
        }
      ]
    },
    {
      "cell_type": "code",
      "metadata": {
        "id": "D1gkbtbv6bqv",
        "colab_type": "code",
        "colab": {}
      },
      "source": [
        "#add ingedient effect manually from neurohackers website.\n",
        "#note: I could learn how to make this into a webscrapper bot, but it's more time efficient to do it manually given the small number of rows.\n",
        "list_of_effects = ['anti-aging, neuroprotective. Decreases fatigue and improves attention, memory, learning and executive function.', 'significantly improves memory and executive function', 'adaptogenic effects(resist more stress), improves memory and focus','improves short term memory, long term memory, learning, attention, and executive function.' ,'prevents cognitive decline, increases attention and memory', 'decreases aging memory and cognitive decline. enhances attention, learning and memory.','reduce stress, fatigue, attention deficit and forgetfulness. increase mental processing speed and accuracy, attention and working memory.','improve executive function, memory and learning.','Supports mitochondrial efficiency, antioxidant defenses, brain function and neuroprotection, healthy gut microbiota(mood), immune and cognitive function']\n",
        "Qualia_stack_differences['Effects']= list_of_effects\n",
        "\n",
        "#Expand column width to show full effects per ingredient\n",
        "pd.set_option('display.max_colwidth', -1)\n",
        "\n",
        "#Index by ingredient\n",
        "Qualia_stack_differences.index = Qualia_stack_differences.Ingredients\n",
        "Qualia_stack_differences.drop(columns = 'Ingredients', inplace = True)"
      ],
      "execution_count": 0,
      "outputs": []
    },
    {
      "cell_type": "markdown",
      "metadata": {
        "id": "mPHIncG76Mlb",
        "colab_type": "text"
      },
      "source": [
        "#Step 3. Explore the differences"
      ]
    },
    {
      "cell_type": "markdown",
      "metadata": {
        "id": "i72Ln-n1tLMl",
        "colab_type": "text"
      },
      "source": [
        "To-Do: \n",
        "\n",
        "1. What are the ingredients in Mind but not in Focus? What do they cause (effect)?\n",
        "2. What are the differences in the ingredients of each formulation?\n",
        "3. Remove ingredients that are equally present and get the effect info for the remaining.\n"
      ]
    },
    {
      "cell_type": "code",
      "metadata": {
        "id": "Yvuck7UoOxdr",
        "colab_type": "code",
        "colab": {
          "base_uri": "https://localhost:8080/",
          "height": 461
        },
        "outputId": "37e4f6f5-860a-41d6-e296-30901e6a33d1"
      },
      "source": [
        "#Convert float to int\n",
        "Qualia_stack_differences['Focus_mg/serving'] = Qualia_stack_differences['Focus_mg/serving'].apply(lambda x: int(x))\n",
        "\n",
        "#Mind_to_Focus transition ingredient's percentage change\n",
        "Qualia_stack_differences['Mind_to_Focus_transition'] = (((Qualia_stack_differences['Focus_mg/serving'] - Qualia_stack_differences['Mind_mg/serving']) / Qualia_stack_differences['Mind_mg/serving'])*100)\n",
        "Qualia_stack_differences['Mind_to_Focus_transition'] = Qualia_stack_differences['Mind_to_Focus_transition'].apply(lambda x: str(x) + '%')\n",
        "\n",
        "#rearranging column order\n",
        "cols = Qualia_stack_differences.columns.to_list()\n",
        "cols = ['Mind_mg/serving',\n",
        "        'Focus_mg/serving',\n",
        "        'Mind_to_Focus_transition',\n",
        "        'Effects']\n",
        "\n",
        "Qualia_stack_differences = Qualia_stack_differences[cols]\n",
        "Qualia_stack_differences"
      ],
      "execution_count": 24,
      "outputs": [
        {
          "output_type": "execute_result",
          "data": {
            "text/html": [
              "<div>\n",
              "<style scoped>\n",
              "    .dataframe tbody tr th:only-of-type {\n",
              "        vertical-align: middle;\n",
              "    }\n",
              "\n",
              "    .dataframe tbody tr th {\n",
              "        vertical-align: top;\n",
              "    }\n",
              "\n",
              "    .dataframe thead th {\n",
              "        text-align: right;\n",
              "    }\n",
              "</style>\n",
              "<table border=\"1\" class=\"dataframe\">\n",
              "  <thead>\n",
              "    <tr style=\"text-align: right;\">\n",
              "      <th></th>\n",
              "      <th>Mind_mg/serving</th>\n",
              "      <th>Focus_mg/serving</th>\n",
              "      <th>Mind_to_Focus_transition</th>\n",
              "      <th>Effects</th>\n",
              "    </tr>\n",
              "    <tr>\n",
              "      <th>Ingredients</th>\n",
              "      <th></th>\n",
              "      <th></th>\n",
              "      <th></th>\n",
              "      <th></th>\n",
              "    </tr>\n",
              "  </thead>\n",
              "  <tbody>\n",
              "    <tr>\n",
              "      <th>Acetyl-L-Carnitine HCI</th>\n",
              "      <td>500</td>\n",
              "      <td>250</td>\n",
              "      <td>-50.0%</td>\n",
              "      <td>anti-aging, neuroprotective. Decreases fatigue and improves attention, memory, learning and executive function.</td>\n",
              "    </tr>\n",
              "    <tr>\n",
              "      <th>Artichoke Leaf Extract (4% cynarin and related flavonoids)</th>\n",
              "      <td>500</td>\n",
              "      <td>300</td>\n",
              "      <td>-40.0%</td>\n",
              "      <td>significantly improves memory and executive function</td>\n",
              "    </tr>\n",
              "    <tr>\n",
              "      <th>Rhodiola rosea Root Extract (3% rosavins; 1% salidrosides)</th>\n",
              "      <td>300</td>\n",
              "      <td>150</td>\n",
              "      <td>-50.0%</td>\n",
              "      <td>adaptogenic effects(resist more stress), improves memory and focus</td>\n",
              "    </tr>\n",
              "    <tr>\n",
              "      <th>Uridine-5' -Monophosphate heptahydrate disodium</th>\n",
              "      <td>250</td>\n",
              "      <td>200</td>\n",
              "      <td>-20.0%</td>\n",
              "      <td>improves short term memory, long term memory, learning, attention, and executive function.</td>\n",
              "    </tr>\n",
              "    <tr>\n",
              "      <th>Alpha-Glycerylphosphorylcholine (alpha GPC)</th>\n",
              "      <td>200</td>\n",
              "      <td>300</td>\n",
              "      <td>50.0%</td>\n",
              "      <td>prevents cognitive decline, increases attention and memory</td>\n",
              "    </tr>\n",
              "    <tr>\n",
              "      <th>Cognizin®</th>\n",
              "      <td>150</td>\n",
              "      <td>0</td>\n",
              "      <td>-100.0%</td>\n",
              "      <td>decreases aging memory and cognitive decline. enhances attention, learning and memory.</td>\n",
              "    </tr>\n",
              "    <tr>\n",
              "      <th>Phosphatidylserine (from sunflower lecithin)</th>\n",
              "      <td>100</td>\n",
              "      <td>0</td>\n",
              "      <td>-100.0%</td>\n",
              "      <td>reduce stress, fatigue, attention deficit and forgetfulness. increase mental processing speed and accuracy, attention and working memory.</td>\n",
              "    </tr>\n",
              "    <tr>\n",
              "      <th>DHA (as Docosahexaenoic Acid from Algae)</th>\n",
              "      <td>80</td>\n",
              "      <td>0</td>\n",
              "      <td>-100.0%</td>\n",
              "      <td>improve executive function, memory and learning.</td>\n",
              "    </tr>\n",
              "    <tr>\n",
              "      <th>Pyrroloquinoline Quinone disodium</th>\n",
              "      <td>10</td>\n",
              "      <td>0</td>\n",
              "      <td>-100.0%</td>\n",
              "      <td>Supports mitochondrial efficiency, antioxidant defenses, brain function and neuroprotection, healthy gut microbiota(mood), immune and cognitive function</td>\n",
              "    </tr>\n",
              "  </tbody>\n",
              "</table>\n",
              "</div>"
            ],
            "text/plain": [
              "                                                            Mind_mg/serving  ...                                                                                                                                                   Effects\n",
              "Ingredients                                                                  ...                                                                                                                                                          \n",
              "Acetyl-L-Carnitine HCI                                      500              ...  anti-aging, neuroprotective. Decreases fatigue and improves attention, memory, learning and executive function.                                         \n",
              "Artichoke Leaf Extract (4% cynarin and related flavonoids)  500              ...  significantly improves memory and executive function                                                                                                    \n",
              "Rhodiola rosea Root Extract (3% rosavins; 1% salidrosides)  300              ...  adaptogenic effects(resist more stress), improves memory and focus                                                                                      \n",
              "Uridine-5' -Monophosphate heptahydrate disodium             250              ...  improves short term memory, long term memory, learning, attention, and executive function.                                                              \n",
              "Alpha-Glycerylphosphorylcholine (alpha GPC)                 200              ...  prevents cognitive decline, increases attention and memory                                                                                              \n",
              "Cognizin®                                                   150              ...  decreases aging memory and cognitive decline. enhances attention, learning and memory.                                                                  \n",
              "Phosphatidylserine (from sunflower lecithin)                100              ...  reduce stress, fatigue, attention deficit and forgetfulness. increase mental processing speed and accuracy, attention and working memory.               \n",
              "DHA (as Docosahexaenoic Acid from Algae)                    80               ...  improve executive function, memory and learning.                                                                                                        \n",
              "Pyrroloquinoline Quinone disodium                           10               ...  Supports mitochondrial efficiency, antioxidant defenses, brain function and neuroprotection, healthy gut microbiota(mood), immune and cognitive function\n",
              "\n",
              "[9 rows x 4 columns]"
            ]
          },
          "metadata": {
            "tags": []
          },
          "execution_count": 24
        }
      ]
    },
    {
      "cell_type": "code",
      "metadata": {
        "id": "A5rNNNsYapyC",
        "colab_type": "code",
        "colab": {}
      },
      "source": [
        "#Visualize the differences on a couple seaborn or plotly express / dash plots. \n",
        "#Visualize the data to observe the differences in ingredients with different quantities.\n",
        "import matplotlib.pyplot as plt\n",
        "%matplotlib inline\n",
        "import seaborn as sns\n",
        "import plotly.express as px\n",
        "#https://plot.ly/python/histograms/"
      ],
      "execution_count": 0,
      "outputs": []
    },
    {
      "cell_type": "code",
      "metadata": {
        "id": "60CvyR84q2Sm",
        "colab_type": "code",
        "colab": {}
      },
      "source": [
        "#plot 1 with seaborn and matplotlib."
      ],
      "execution_count": 0,
      "outputs": []
    },
    {
      "cell_type": "code",
      "metadata": {
        "id": "CZXxmaGhq54n",
        "colab_type": "code",
        "colab": {}
      },
      "source": [
        "#plot 2 with plotly for effective difference spotting with interactive plots."
      ],
      "execution_count": 0,
      "outputs": []
    },
    {
      "cell_type": "markdown",
      "metadata": {
        "id": "nM1dLz4WakFl",
        "colab_type": "text"
      },
      "source": [
        "# Conclusions\n",
        "Qualia Focus and Qualia Mind are very similar. From 28 total ingredients, 4 were completely removed and 5 were changed in total quantities. "
      ]
    },
    {
      "cell_type": "code",
      "metadata": {
        "id": "m9AyIHthtmQc",
        "colab_type": "code",
        "colab": {}
      },
      "source": [
        "Conclusion: \n",
        "#print('Removed {} and added {}')\n",
        "#Now the name makes sense"
      ],
      "execution_count": 0,
      "outputs": []
    },
    {
      "cell_type": "markdown",
      "metadata": {
        "id": "KUBQ9VBNcC6G",
        "colab_type": "text"
      },
      "source": [
        "Conclusion: \n",
        "Removed {} and added {}. Now the name makes sense. \n",
        "\n",
        "So far, based on the data, Qualia Mind does in fact appear to promote overall brain health for short and long term mental well-being. With the ingredient changes in Focus, the trade-off appears to be on removing the dimension of long term wholistic mental health and direct it more as a thinking fast on your feet,increasing attention and working memory. \n",
        "\n",
        "If transitioning, you can expect a significant decline in #Focus_loss\n",
        "\n"
      ]
    },
    {
      "cell_type": "code",
      "metadata": {
        "id": "B1Iy7cuwt4Ke",
        "colab_type": "code",
        "colab": {}
      },
      "source": [
        "#Part 3: Ideas Moving Forward\n",
        "#As a fun approach to a more in depth analysis, we could: \n",
        "#Explore NLTK features like tokenizing and finding the most common terms could lead to vectorized results. \n",
        "#More in depth, we could gather the whole corpus of ingredients overviews to analyze it with NLP to summarize and perhaps visualize this data mathematically."
      ],
      "execution_count": 0,
      "outputs": []
    },
    {
      "cell_type": "code",
      "metadata": {
        "id": "glbZsmwJyvQP",
        "colab_type": "code",
        "colab": {}
      },
      "source": [
        ""
      ],
      "execution_count": 0,
      "outputs": []
    }
  ]
}